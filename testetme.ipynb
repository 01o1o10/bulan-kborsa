{
 "cells": [
  {
   "cell_type": "code",
   "execution_count": 1,
   "metadata": {},
   "outputs": [],
   "source": [
    "import numpy as np\n",
    "import pandas as pd\n",
    "import seaborn as sbn\n",
    "from matplotlib import pyplot as plt\n",
    "import matplotlib.lines as mlines\n",
    "import ast\n",
    "from mpl_toolkits import mplot3d"
   ]
  },
  {
   "cell_type": "code",
   "execution_count": 2,
   "metadata": {},
   "outputs": [
    {
     "data": {
      "image/png": "[encoded data removed]",
      "text/plain": [
       "<Figure size 432x288 with 1 Axes>"
      ]
     },
     "metadata": {
      "needs_background": "light"
     },
     "output_type": "display_data"
    }
   ],
   "source": [
    "file = 'Data/Stocks/amswa.us.txt'\n",
    "data = pd.read_csv(file)\n",
    "\n",
    "#data = data[data.Date > '2015-01-01']\n",
    "plt.plot(data.Close, label=\"Close Prices\")\n",
    "plt.legend(bbox_to_anchor=(1.05, 1), loc=2, borderaxespad=0.)\n",
    "plt.show()"
   ]
  },
  {
   "cell_type": "code",
   "execution_count": 3,
   "metadata": {},
   "outputs": [],
   "source": [
    "def newline(p1, p2):\n",
    "    ax = plt.gca()\n",
    "    xmin, xmax = ax.get_xbound()\n",
    "\n",
    "    if(p2[0] == p1[0]):\n",
    "        xmin = xmax = p1[0]\n",
    "        ymin, ymax = ax.get_ybound()\n",
    "    else:\n",
    "        ymax = p1[1]+(p2[1]-p1[1])/(p2[0]-p1[0])*(xmax-p1[0])\n",
    "        ymin = p1[1]+(p2[1]-p1[1])/(p2[0]-p1[0])*(xmin-p1[0])\n",
    "\n",
    "    l = mlines.Line2D([xmin,xmax], [ymin,ymax])\n",
    "    ax.add_line(l)\n",
    "    return l"
   ]
  },
  {
   "cell_type": "code",
   "execution_count": 4,
   "metadata": {},
   "outputs": [],
   "source": [
    "def kazanchesapla(data, miktar, bast, bitt):\n",
    "    data = data[data.Date > bast]\n",
    "    data = data[data.Date < bitt]\n",
    "    durum = 'elde değil'\n",
    "    islemkaydi = []\n",
    "    ilkindex = data[:1].index[0]\n",
    "    sonindex = data[-1:].index[0]\n",
    "    for i in range(ilkindex + 1, sonindex):\n",
    "        kazancorani = data.Close[i]/data.Close[i-1]\n",
    "        if (data.emir[i] == 'al' or data.emir[i] == 'kuvvetli al') and durum == 'elde değil':\n",
    "            islemkaydi.append(data.emir[i])\n",
    "            durum = 'elde'\n",
    "        elif (data.emir[i] == 'sat' or data.emir[i] == 'kuvvetli sat') and durum == 'elde':\n",
    "            islemkaydi.append(data.emir[i])\n",
    "            miktar = miktar * kazancorani\n",
    "            durum = 'elde değil'\n",
    "            \n",
    "    return miktar, islemkaydi            "
   ]
  },
  {
   "cell_type": "code",
   "execution_count": 7,
   "metadata": {},
   "outputs": [
    {
     "name": "stdout",
     "output_type": "stream",
     "text": [
      "Hisse senedinin ilk değeri:  10000\n",
      "kazanç:  1.0158196988423838\n",
      "islem sayisi:  48\n",
      "Hisse senedinin son değeri:  10158.196988423837\n",
      "\n",
      "\n",
      "islemler:  ['al', 'sat', 'al', 'kuvvetli sat', 'kuvvetli al', 'kuvvetli sat', 'kuvvetli al', 'kuvvetli sat', 'kuvvetli al', 'sat', 'kuvvetli al', 'sat', 'al', 'kuvvetli sat', 'kuvvetli al', 'kuvvetli sat', 'kuvvetli al', 'kuvvetli sat', 'kuvvetli al', 'kuvvetli sat', 'al', 'kuvvetli sat', 'kuvvetli al', 'kuvvetli sat', 'kuvvetli al', 'kuvvetli sat', 'kuvvetli al', 'sat', 'kuvvetli al', 'sat', 'al', 'kuvvetli sat', 'al', 'kuvvetli sat', 'kuvvetli al', 'kuvvetli sat', 'kuvvetli al', 'kuvvetli sat', 'al', 'sat', 'al', 'kuvvetli sat', 'kuvvetli al', 'kuvvetli sat', 'kuvvetli al', 'sat', 'kuvvetli al', 'kuvvetli sat']\n"
     ]
    }
   ],
   "source": [
    "yp = 10000\n",
    "bast = '2016-05-05'\n",
    "bitt = '2017-05-05'\n",
    "\n",
    "ypsd, islemkaydi = kazanchesapla(data, yp, bast, bitt)\n",
    "\n",
    "print('Hisse senedinin ilk değeri: ', yp)\n",
    "print('kazanç: ', ypsd/yp)\n",
    "print('islem sayisi: ', len(islemkaydi))\n",
    "print('Hisse senedinin son değeri: ', ypsd)\n",
    "print('\\n')\n",
    "print( 'islemler: ', islemkaydi)"
   ]
  }
 ],
 "metadata": {
  "kernelspec": {
   "display_name": "Python 3",
   "language": "python",
   "name": "python3"
  },
  "language_info": {
   "codemirror_mode": {
    "name": "ipython",
    "version": 3
   },
   "file_extension": ".py",
   "mimetype": "text/x-python",
   "name": "python",
   "nbconvert_exporter": "python",
   "pygments_lexer": "ipython3",
   "version": "3.6.7"
  }
 },
 "nbformat": 4,
 "nbformat_minor": 2
}
