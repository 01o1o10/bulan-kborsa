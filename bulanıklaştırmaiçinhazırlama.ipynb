{
 "cells": [
  {
   "cell_type": "code",
   "execution_count": 1,
   "metadata": {},
   "outputs": [],
   "source": [
    "import numpy as np\n",
    "import pandas as pd\n",
    "import seaborn as sbn\n",
    "from matplotlib import pyplot as plt\n",
    "import matplotlib.lines as mlines"
   ]
  },
  {
   "cell_type": "code",
   "execution_count": 2,
   "metadata": {},
   "outputs": [
    {
     "data": {
      "image/png": "[encoded data removed]",
      "text/plain": [
       "<Figure size 432x288 with 1 Axes>"
      ]
     },
     "metadata": {
      "needs_background": "light"
     },
     "output_type": "display_data"
    }
   ],
   "source": [
    "file = 'Data/Stocks/amswa.us.txt'\n",
    "data = pd.read_csv(file)\n",
    "data = data[2:]\n",
    "\n",
    "#data = data[data.Date > '2015-01-01']\n",
    "plt.plot(data.Close)\n",
    "plt.show()"
   ]
  },
  {
   "cell_type": "code",
   "execution_count": 3,
   "metadata": {},
   "outputs": [],
   "source": [
    "def getsma(data):\n",
    "    sma = data.uho5.iloc[0] - data.uho21.iloc[0]\n",
    "    return sma"
   ]
  },
  {
   "cell_type": "code",
   "execution_count": 4,
   "metadata": {},
   "outputs": [],
   "source": [
    "def getema(data):\n",
    "    ema = data.uho5.iloc[0] - data.uho21.iloc[0]\n",
    "    return ema"
   ]
  },
  {
   "cell_type": "code",
   "execution_count": 5,
   "metadata": {},
   "outputs": [],
   "source": [
    "def getbollinger(data):\n",
    "    diff = data.Close.iloc[0] - data.downBand.iloc[0]\n",
    "    \n",
    "    if diff < 0:\n",
    "        blngbnd = (diff/(data.upBand.iloc[0] - data.downBand.iloc[0])) * 100\n",
    "    else:\n",
    "        blngbnd = (diff/(data.upBand.iloc[0] - data.downBand.iloc[0])) * 100\n",
    "\n",
    "    return blngbnd"
   ]
  },
  {
   "cell_type": "code",
   "execution_count": 6,
   "metadata": {},
   "outputs": [],
   "source": [
    "# indikatör sonuçlarını sayısal değer olarak elde etme\n",
    "def getresults(data):\n",
    "    sma = getsma(data)\n",
    "    ema = getema(data)\n",
    "    blngbnd = getbollinger(data)\n",
    "    \n",
    "    return sma, ema, blngbnd"
   ]
  },
  {
   "cell_type": "code",
   "execution_count": 7,
   "metadata": {},
   "outputs": [],
   "source": [
    "sma = []\n",
    "ema = []\n",
    "blngbnd = []\n",
    "\n",
    "for date in data.Date:\n",
    "    sma1, ema1, blngbnd1 = getresults(data[data.Date == date])\n",
    "    sma.append(sma1)\n",
    "    ema.append(ema1)\n",
    "    blngbnd.append(blngbnd1)\n",
    "    \n",
    "try:\n",
    "    data.insert(0, 'sma', sma)\n",
    "    data.insert(0, 'ema', ema)\n",
    "    data.insert(0, 'blngbnd', blngbnd)\n",
    "except:\n",
    "    data = data.drop(columns=['sma', 'ema', 'blngbnd'])\n",
    "    data.insert(0, 'sma', sma)\n",
    "    data.insert(0, 'ema', ema)\n",
    "    data.insert(0, 'blngbnd', blngbnd)"
   ]
  },
  {
   "cell_type": "code",
   "execution_count": 8,
   "metadata": {},
   "outputs": [
    {
     "name": "stdout",
     "output_type": "stream",
     "text": [
      "Index(['blngbnd', 'ema', 'sma', 'Unnamed: 0', 'desindic', 'downBand', 'upBand',\n",
      "       'sigma', 'bho20', 'rsi', 'uho21', 'uho5', 'bho21', 'bho5', 'Date',\n",
      "       'Close'],\n",
      "      dtype='object') \n",
      "\n",
      "\n",
      "Index(['blngbnd', 'ema', 'sma', 'desindic', 'downBand', 'upBand', 'sigma',\n",
      "       'bho20', 'rsi', 'uho21', 'uho5', 'bho21', 'bho5', 'Date', 'Close'],\n",
      "      dtype='object')\n"
     ]
    }
   ],
   "source": [
    "print(data.columns, '\\n\\n')\n",
    "a = []\n",
    "for col in data.columns:\n",
    "    if 'Unnamed' in col:\n",
    "        a.append(col)\n",
    "data = data.drop(columns=a)\n",
    "print(data.columns)"
   ]
  },
  {
   "cell_type": "code",
   "execution_count": 9,
   "metadata": {},
   "outputs": [],
   "source": [
    "# SAVE\n",
    "data.to_csv(file, sep=',')"
   ]
  }
 ],
 "metadata": {
  "kernelspec": {
   "display_name": "Python 3",
   "language": "python",
   "name": "python3"
  },
  "language_info": {
   "codemirror_mode": {
    "name": "ipython",
    "version": 3
   },
   "file_extension": ".py",
   "mimetype": "text/x-python",
   "name": "python",
   "nbconvert_exporter": "python",
   "pygments_lexer": "ipython3",
   "version": "3.6.7"
  }
 },
 "nbformat": 4,
 "nbformat_minor": 2
}
